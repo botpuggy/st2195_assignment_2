{
 "cells": [
  {
   "cell_type": "code",
   "execution_count": 76,
   "id": "e5fe29bf",
   "metadata": {},
   "outputs": [
    {
     "name": "stdout",
     "output_type": "stream",
     "text": [
      "   Year   Make                                   Model  \\\n",
      "0  1997   Ford                                    E350   \n",
      "1  1999  Chevy              Venture \"Extended Edition\"   \n",
      "2  1999  Chevy  Venture \"Extended Edition, Very Large\"   \n",
      "3  1996   Jeep                          Grand Cherokee   \n",
      "\n",
      "                        Description    Price\\n  \n",
      "0                     ac, abs, moon  3000.00\\n  \n",
      "1                                    4900.00\\n  \n",
      "2                                    5000.00\\n  \n",
      "3  MUST SELL!air, moon roof, loaded  4799.00\\n  \n"
     ]
    }
   ],
   "source": [
    "import pandas as pd\n",
    "import numpy as np\n",
    "import matplotlib.pyplot as plt\n",
    "import seaborn as sns\n",
    "%matplotlib inline\n",
    "\n",
    "from urllib.request import urlopen\n",
    "from bs4 import BeautifulSoup\n",
    "\n",
    "url = \"https://en.wikipedia.org/wiki/Comma-separated_values\"\n",
    "html = urlopen(url)\n",
    "\n",
    "soup = BeautifulSoup(html, 'lxml')\n",
    "type(soup)\n",
    "\n",
    "\n",
    "body = soup.find_all('tbody')\n",
    "eg_body =  body[1]\n",
    "#print(eg_body)\n",
    "\n",
    "table = eg_body.find_all(\"tr\")\n",
    "#header\n",
    "header = eg_body.find_all(\"th\")\n",
    "head_clean = [th.text for th in header]\n",
    "#print(head_clean)\n",
    "df = pd.DataFrame(columns=head_clean)\n",
    "\n",
    "for i in table [1:]:\n",
    "    data = i.find_all(\"td\")\n",
    "    nonhead = [tr.text for tr in data]\n",
    "    #print(nonhead)\n",
    "    l = len(df)\n",
    "    df.loc[l] = nonhead\n",
    "    \n",
    "print(df)\n",
    "\n",
    "df.to_csv('C:\\\\Users\\\\kyler\\\\spyder\\\\python_csv\\outcome.csv', index=False, header=True)\n",
    "\n",
    "\n"
   ]
  },
  {
   "cell_type": "code",
   "execution_count": 12,
   "id": "5ad56590",
   "metadata": {},
   "outputs": [
    {
     "data": {
      "text/plain": [
       "'C:\\\\Users\\\\kyler\\\\spyder\\\\python_csv'"
      ]
     },
     "execution_count": 12,
     "metadata": {},
     "output_type": "execute_result"
    }
   ],
   "source": [
    "\n"
   ]
  },
  {
   "cell_type": "code",
   "execution_count": null,
   "id": "682ba9b2",
   "metadata": {},
   "outputs": [],
   "source": [
    "eg_body.to_csv('C:\\\\Users\\\\kyler\\\\spyder\\\\python_csv\\outcome.csv', index=False, header=True)"
   ]
  }
 ],
 "metadata": {
  "kernelspec": {
   "display_name": "Python 3 (ipykernel)",
   "language": "python",
   "name": "python3"
  },
  "language_info": {
   "codemirror_mode": {
    "name": "ipython",
    "version": 3
   },
   "file_extension": ".py",
   "mimetype": "text/x-python",
   "name": "python",
   "nbconvert_exporter": "python",
   "pygments_lexer": "ipython3",
   "version": "3.11.4"
  }
 },
 "nbformat": 4,
 "nbformat_minor": 5
}
